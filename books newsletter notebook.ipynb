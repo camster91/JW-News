{
 "metadata": {
  "language_info": {
   "codemirror_mode": {
    "name": "ipython",
    "version": 3
   },
   "file_extension": ".py",
   "mimetype": "text/x-python",
   "name": "python",
   "nbconvert_exporter": "python",
   "pygments_lexer": "ipython3",
   "version": "3.9.4"
  },
  "orig_nbformat": 2,
  "kernelspec": {
   "name": "python394jvsc74a57bd0cc48d55852f55f937e6aff107b5676f0ab0962e50c0f1eae37d6dd05732a2608",
   "display_name": "Python 3.9.4 64-bit"
  },
  "metadata": {
   "interpreter": {
    "hash": "cc48d55852f55f937e6aff107b5676f0ab0962e50c0f1eae37d6dd05732a2608"
   }
  }
 },
 "nbformat": 4,
 "nbformat_minor": 2,
 "cells": [
  {
   "cell_type": "code",
   "execution_count": 57,
   "metadata": {},
   "outputs": [
    {
     "output_type": "error",
     "ename": "SyntaxError",
     "evalue": "invalid syntax (<ipython-input-57-ae2302327fd3>, line 57)",
     "traceback": [
      "\u001b[1;36m  File \u001b[1;32m\"<ipython-input-57-ae2302327fd3>\"\u001b[1;36m, line \u001b[1;32m57\u001b[0m\n\u001b[1;33m    else:\u001b[0m\n\u001b[1;37m    ^\u001b[0m\n\u001b[1;31mSyntaxError\u001b[0m\u001b[1;31m:\u001b[0m invalid syntax\n"
     ]
    }
   ],
   "source": [
    "import time\r\n",
    "import smtplib\r\n",
    "import pickle\r\n",
    "import feedparser\r\n",
    "import os\r\n",
    "from selenium import webdriver\r\n",
    "from selenium.webdriver.common.by import By\r\n",
    "from selenium.webdriver.support.ui import WebDriverWait\r\n",
    "from selenium.webdriver.support import expected_conditions as EC\r\n",
    "from selenium.webdriver.chrome.options import Options\r\n",
    "from bs4 import BeautifulSoup\r\n",
    "from email.mime.multipart import MIMEMultipart\r\n",
    "from email.mime.text import MIMEText\r\n",
    "from subprocess import call\r\n",
    "\r\n",
    "option = Options()\r\n",
    "option.headless = False\r\n",
    "driver = webdriver.Chrome(options=option)\r\n",
    "\r\n",
    "os.environ['WDM_LOG_LEVEL'] = '0'\r\n",
    "\r\n",
    "driver.minimize_window()\r\n",
    "driver.get('https://www.jw.org/en/library/books')\r\n",
    "\r\n",
    "WebDriverWait(driver,100).until(EC.presence_of_element_located(\r\n",
    "        (By.ID, \"pubsViewResults\"))) \r\n",
    "\r\n",
    "book_list = []\r\n",
    "old_books = []\r\n",
    "\r\n",
    "try:\r\n",
    "    with open('old_books.txt', 'rb') as filehandle:\r\n",
    "        old_links = pickle.load(filehandle)\r\n",
    "except:\r\n",
    "    print(\"File empty\") \r\n",
    "\r\n",
    "html = driver.page_source\r\n",
    "soup = BeautifulSoup(html, 'html.parser')\r\n",
    "\r\n",
    "books_dict = {}\r\n",
    "\r\n",
    "for link in soup.find_all(\"div\", {\"class\":\"publicationDesc\"}):\r\n",
    "    href = \"https://www.jw.org\" + link.a['href']\r\n",
    "    title = link.text.strip()\r\n",
    "\r\n",
    "    books_dict['Link'] = href\r\n",
    "    books_dict['Title'] = title\r\n",
    "\r\n",
    "    if href not in old_books:\r\n",
    "\r\n",
    "        book_list.append(books_dict)\r\n",
    "        old_books.append(href)\r\n",
    "\r\n",
    "        with open('old_books.txt', 'wb') as filehandle:\r\n",
    "                pickle.dump(old_books, filehandle)\r\n",
    "\r\n",
    "    else:\r\n",
    "        continue\r\n",
    "\r\n",
    "pics = BeautifulSoup(html, 'html.parser')\r\n",
    "\r\n",
    "for pic in pics.find_all(\"div\", {\"class\":\"cvr-wrapper\"}):\r\n",
    "    image = pic.img['src']\r\n",
    "\r\n",
    "    books_dict['Image'] = image\r\n",
    "\r\n",
    "    if href not in old_books:\r\n",
    "\r\n",
    "        book_list.append(books_dict)\r\n",
    "\r\n",
    "print(book_list)"
   ]
  },
  {
   "cell_type": "code",
   "execution_count": null,
   "metadata": {},
   "outputs": [],
   "source": []
  }
 ]
}